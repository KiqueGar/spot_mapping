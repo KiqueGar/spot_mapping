{
 "cells": [
  {
   "cell_type": "code",
   "execution_count": 1,
   "metadata": {
    "collapsed": true
   },
   "outputs": [],
   "source": [
    "from PIL import Image\n",
    "from PIL.ExifTags import TAGS, GPSTAGS\n",
    "import os\n",
    "import csv"
   ]
  },
  {
   "cell_type": "markdown",
   "metadata": {},
   "source": [
    "#### Exif functions"
   ]
  },
  {
   "cell_type": "code",
   "execution_count": 2,
   "metadata": {
    "collapsed": true
   },
   "outputs": [],
   "source": [
    "#Get Latitude and Longitude from EXIF using PIL\n",
    "#From https://gist.github.com/erans/983821\n",
    "def get_exif_data(image):\n",
    "    \"\"\"Returns a dictionary from the exif data of an PIL Image item. Also converts the GPS Tags\"\"\"\n",
    "    exif_data = {}\n",
    "    info = image._getexif()\n",
    "    if info:\n",
    "        for tag, value in info.items():\n",
    "            decoded = TAGS.get(tag, tag)\n",
    "            if decoded == \"GPSInfo\":\n",
    "                gps_data = {}\n",
    "                for t in value:\n",
    "                    sub_decoded = GPSTAGS.get(t, t)\n",
    "                    gps_data[sub_decoded] = value[t]\n",
    "\n",
    "                exif_data[decoded] = gps_data\n",
    "            else:\n",
    "                exif_data[decoded] = value\n",
    "    return exif_data\n",
    "\n",
    "def _get_if_exist(data, key):\n",
    "    \"\"\"Check if key exist in data, return data if true\"\"\"\n",
    "    if key in data:\n",
    "        return data[key]\n",
    "    return None\n",
    "\n",
    "def _convert_to_degress(value):\n",
    "    \"\"\"Helper function to convert the GPS coordinates stored in the EXIF to degress in float format\"\"\"\n",
    "    d0 = value[0][0]\n",
    "    d1 = value[0][1]\n",
    "    d = float(d0) / float(d1)\n",
    "\n",
    "    m0 = value[1][0]\n",
    "    m1 = value[1][1]\n",
    "    m = float(m0) / float(m1)\n",
    "\n",
    "    s0 = value[2][0]\n",
    "    s1 = value[2][1]\n",
    "    s = float(s0) / float(s1)\n",
    "    return d + (m / 60.0) + (s / 3600.0)  \n",
    "    \n",
    "def get_lat_lon(exif_data):\n",
    "    \"\"\"Get GPS data from exif data\"\"\"\n",
    "#    lat = None\n",
    "#    lon = None\n",
    "    if \"GPSInfo\" in exif_data:\n",
    "        gps_info = exif_data[\"GPSInfo\"]\n",
    "\n",
    "        gps_latitude = _get_if_exist(gps_info, \"GPSLatitude\")\n",
    "        gps_latitude_ref = _get_if_exist(gps_info, 'GPSLatitudeRef')\n",
    "        gps_longitude = _get_if_exist(gps_info, 'GPSLongitude')\n",
    "        gps_longitude_ref = _get_if_exist(gps_info, 'GPSLongitudeRef')\n",
    "\n",
    "        if gps_latitude and gps_latitude_ref and gps_longitude and gps_longitude_ref:\n",
    "            lat = _convert_to_degress(gps_latitude)\n",
    "            if gps_latitude_ref != \"N\":                     \n",
    "                lat = 0 - lat\n",
    "            lon = _convert_to_degress(gps_longitude)\n",
    "            if gps_longitude_ref != \"E\":\n",
    "                lon = 0 - lon\n",
    "            return lat, lon\n",
    "        else:\n",
    "            return None\n",
    "    else:\n",
    "            return None\n",
    "\n",
    "def get_positions_from_folder(img_dir):\n",
    "    info_list=[]\n",
    "    for img_name in os.listdir(img_dir):\n",
    "        img=Image.open(img_dir+img_name)\n",
    "        exif_data=get_exif_data(img)\n",
    "        gps_pos=get_lat_lon(exif_data)\n",
    "        if gps_pos is not None:\n",
    "            info_list.append([img_name, gps_pos[0], gps_pos[1]])\n",
    "    #        print(gps_pos)\n",
    "        else:\n",
    "            print(\"No GPS data found! \"+img_name)\n",
    "    return info_list\n"
   ]
  },
  {
   "cell_type": "code",
   "execution_count": 3,
   "metadata": {},
   "outputs": [
    {
     "name": "stdout",
     "output_type": "stream",
     "text": [
      "<PIL.JpegImagePlugin.JpegImageFile image mode=RGB size=4128x3096 at 0x1CAE0558518>\n",
      "No GPS data found!\n"
     ]
    }
   ],
   "source": [
    "#Sample usage\n",
    "image=Image.open(\"./test1.jpg\")\n",
    "print(image)\n",
    "sample_data= get_exif_data(image)\n",
    "gps_pos=get_lat_lon(sample_data)\n",
    "if gps_pos is not None:\n",
    "    print(gps_pos)\n",
    "else:\n",
    "    print(\"No GPS data found!\")\n"
   ]
  },
  {
   "cell_type": "code",
   "execution_count": 4,
   "metadata": {},
   "outputs": [
    {
     "name": "stdout",
     "output_type": "stream",
     "text": [
      "No GPS data found! DSC_1075.JPG\n",
      "No GPS data found! DSC_1076.JPG\n",
      "No GPS data found! DSC_1079.JPG\n",
      "No GPS data found! DSC_1084.JPG\n"
     ]
    }
   ],
   "source": [
    "search_dir = \"./source_img/\"\n",
    "output_file = \"./test.csv\"\n",
    "\"\"\"\n",
    "for img_name in os.listdir(img_dir):\n",
    "    img=Image.open(img_dir+img_name)\n",
    "    exif_data=get_exif_data(img)\n",
    "    gps_pos=get_lat_lon(exif_data)\n",
    "    if gps_pos is not None:\n",
    "        info_list.append([img_name, gps_pos[0], gps_pos[1]])\n",
    "#        print(gps_pos)\n",
    "    else:\n",
    "        print(\"No GPS data found! \"+img_name)\n",
    "\"\"\"\n",
    "listed_data= get_positions_from_folder(search_dir)\n",
    "if len(listed_data)>1:\n",
    "    listed_data.insert(0,[\"File\",\"Lat\", \"Lon\"])\n",
    "\n",
    "with open(output_file, 'w') as myfile:\n",
    "    wr = csv.writer(myfile, lineterminator='\\n')\n",
    "    #for i in listed_data:\n",
    "    wr.writerows(listed_data)\n",
    "    myfile.close"
   ]
  },
  {
   "cell_type": "code",
   "execution_count": null,
   "metadata": {
    "collapsed": true
   },
   "outputs": [],
   "source": []
  },
  {
   "cell_type": "code",
   "execution_count": null,
   "metadata": {
    "collapsed": true
   },
   "outputs": [],
   "source": []
  },
  {
   "cell_type": "code",
   "execution_count": null,
   "metadata": {
    "collapsed": true
   },
   "outputs": [],
   "source": []
  }
 ],
 "metadata": {
  "anaconda-cloud": {},
  "kernelspec": {
   "display_name": "Python 3",
   "language": "python",
   "name": "python3"
  },
  "language_info": {
   "codemirror_mode": {
    "name": "ipython",
    "version": 3
   },
   "file_extension": ".py",
   "mimetype": "text/x-python",
   "name": "python",
   "nbconvert_exporter": "python",
   "pygments_lexer": "ipython3",
   "version": "3.6.1"
  }
 },
 "nbformat": 4,
 "nbformat_minor": 1
}
